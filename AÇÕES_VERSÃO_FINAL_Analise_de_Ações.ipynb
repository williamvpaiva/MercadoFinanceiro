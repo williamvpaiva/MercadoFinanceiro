{
  "nbformat": 4,
  "nbformat_minor": 0,
  "metadata": {
    "colab": {
      "name": "AÇÕES - VERSÃO FINAL - Analise de Ações.ipynb",
      "provenance": [],
      "collapsed_sections": [],
      "authorship_tag": "ABX9TyMUwpL+dQW/vBLDDWHtt0qm",
      "include_colab_link": true
    },
    "kernelspec": {
      "name": "python3",
      "display_name": "Python 3"
    },
    "language_info": {
      "name": "python"
    }
  },
  "cells": [
    {
      "cell_type": "markdown",
      "metadata": {
        "id": "view-in-github",
        "colab_type": "text"
      },
      "source": [
        "<a href=\"https://colab.research.google.com/github/williamvpaiva/MercadoFinanceiro/blob/main/A%C3%87%C3%95ES_VERS%C3%83O_FINAL_Analise_de_A%C3%A7%C3%B5es.ipynb\" target=\"_parent\"><img src=\"https://colab.research.google.com/assets/colab-badge.svg\" alt=\"Open In Colab\"/></a>"
      ]
    },
    {
      "cell_type": "code",
      "metadata": {
        "colab": {
          "base_uri": "https://localhost:8080/"
        },
        "id": "YfP44u6UQNe9",
        "outputId": "69e8f72c-636a-4371-dee2-e9ba115bbd1e"
      },
      "source": [
        "pip install yfinance --upgrade --no-cache-dir"
      ],
      "execution_count": null,
      "outputs": [
        {
          "output_type": "stream",
          "text": [
            "Collecting yfinance\n",
            "  Downloading yfinance-0.1.63.tar.gz (26 kB)\n",
            "Requirement already satisfied: pandas>=0.24 in /usr/local/lib/python3.7/dist-packages (from yfinance) (1.1.5)\n",
            "Requirement already satisfied: numpy>=1.15 in /usr/local/lib/python3.7/dist-packages (from yfinance) (1.19.5)\n",
            "Requirement already satisfied: requests>=2.20 in /usr/local/lib/python3.7/dist-packages (from yfinance) (2.23.0)\n",
            "Requirement already satisfied: multitasking>=0.0.7 in /usr/local/lib/python3.7/dist-packages (from yfinance) (0.0.9)\n",
            "Collecting lxml>=4.5.1\n",
            "  Downloading lxml-4.6.3-cp37-cp37m-manylinux2014_x86_64.whl (6.3 MB)\n",
            "\u001b[K     |████████████████████████████████| 6.3 MB 8.1 MB/s \n",
            "\u001b[?25hRequirement already satisfied: pytz>=2017.2 in /usr/local/lib/python3.7/dist-packages (from pandas>=0.24->yfinance) (2018.9)\n",
            "Requirement already satisfied: python-dateutil>=2.7.3 in /usr/local/lib/python3.7/dist-packages (from pandas>=0.24->yfinance) (2.8.1)\n",
            "Requirement already satisfied: six>=1.5 in /usr/local/lib/python3.7/dist-packages (from python-dateutil>=2.7.3->pandas>=0.24->yfinance) (1.15.0)\n",
            "Requirement already satisfied: idna<3,>=2.5 in /usr/local/lib/python3.7/dist-packages (from requests>=2.20->yfinance) (2.10)\n",
            "Requirement already satisfied: certifi>=2017.4.17 in /usr/local/lib/python3.7/dist-packages (from requests>=2.20->yfinance) (2021.5.30)\n",
            "Requirement already satisfied: urllib3!=1.25.0,!=1.25.1,<1.26,>=1.21.1 in /usr/local/lib/python3.7/dist-packages (from requests>=2.20->yfinance) (1.24.3)\n",
            "Requirement already satisfied: chardet<4,>=3.0.2 in /usr/local/lib/python3.7/dist-packages (from requests>=2.20->yfinance) (3.0.4)\n",
            "Building wheels for collected packages: yfinance\n",
            "  Building wheel for yfinance (setup.py) ... \u001b[?25l\u001b[?25hdone\n",
            "  Created wheel for yfinance: filename=yfinance-0.1.63-py2.py3-none-any.whl size=23919 sha256=f06f2adde6fab5d6fca7b37b091dade8b2d20f4cfd82b43108f407dd6f0ce21b\n",
            "  Stored in directory: /tmp/pip-ephem-wheel-cache-obp891ux/wheels/fe/87/8b/7ec24486e001d3926537f5f7801f57a74d181be25b11157983\n",
            "Successfully built yfinance\n",
            "Installing collected packages: lxml, yfinance\n",
            "  Attempting uninstall: lxml\n",
            "    Found existing installation: lxml 4.2.6\n",
            "    Uninstalling lxml-4.2.6:\n",
            "      Successfully uninstalled lxml-4.2.6\n",
            "Successfully installed lxml-4.6.3 yfinance-0.1.63\n"
          ],
          "name": "stdout"
        }
      ]
    },
    {
      "cell_type": "code",
      "metadata": {
        "id": "hPqj2Ch4PEgu"
      },
      "source": [
        "from datetime import datetime, timedelta\n",
        "import pandas as pd\n",
        "import yfinance as yf\n",
        "import requests\n",
        "from bs4 import BeautifulSoup\n",
        "import plotly\n",
        "import openpyxl"
      ],
      "execution_count": null,
      "outputs": []
    },
    {
      "cell_type": "code",
      "metadata": {
        "id": "Dq2HcrJZV5Cn",
        "colab": {
          "base_uri": "https://localhost:8080/"
        },
        "outputId": "02ed8276-89d3-43a8-a955-bde2354e4190"
      },
      "source": [
        "%%time\n",
        "\n",
        "# Imports\n",
        "from bs4 import BeautifulSoup\n",
        "import pandas as pd\n",
        "from urllib.request import Request, urlopen\n",
        "from urllib.error import URLError, HTTPError\n",
        "\n",
        "# Definindo características da página\n",
        "url = 'https://www.fundamentus.com.br/resultado.php'\n",
        "headers = {'User-Agent': 'Mozilla/5.0 (Windows NT 10.0; Win64; x64) AppleWebKit/537.36 (KHTML, like Gecko) Chrome/76.0.3809.100 Safari/537.36'}\n",
        "\n",
        "# Fazendo a request\n",
        "try:\n",
        "    req = Request(url, headers = headers)\n",
        "    response = urlopen(req)\n",
        "    print('Foi\\n\\n')\n",
        "    print(response.getcode())\n",
        "    html = response.read()\n",
        "\n",
        "# Tratando alguns possíveis erros\n",
        "except HTTPError as e:\n",
        "    print('HTTPError\\n\\n')\n",
        "    print(response.getcode())\n",
        "    print(e.status, e.reason)\n",
        "\n",
        "except URLError as e:\n",
        "    print('URLError\\n\\n')\n",
        "    print(response.getcode())\n",
        "    print(e.reason)\n",
        "\n",
        "# Instanciando um objeto BeautifulSoup\n",
        "soup = BeautifulSoup(html, 'html.parser')\n",
        "\n",
        "# Pegando os nomes das colunas da tabela\n",
        "colunas_names = [col.getText() for col in soup.find('table', {'id': 'resultado'}).find('thead').findAll('th')]\n",
        "colunas = {i: col.getText() for i, col in enumerate(soup.find('table', {'id': 'resultado'}).find('thead').findAll('th'))}\n",
        "\n",
        "# Criando um DataFrame com os nomes das colunas\n",
        "dados = pd.DataFrame(columns=colunas_names)\n",
        "\n",
        "# Pegando os dados da tabela por linha\n",
        "for i in range(len(soup.find('table', {'id': 'resultado'}).find('tbody').findAll('tr'))):\n",
        "    linha = soup.find('table', {'id': 'resultado'}).find('tbody').findAll('tr')[i].getText().split('\\n')[1:]\n",
        "    inserir_linha = pd.DataFrame(linha).T.rename(columns=colunas)\n",
        "    dados = pd.concat([dados, inserir_linha], ignore_index=True)\n",
        "\n",
        "# É tetra!\n",
        "dados"
      ],
      "execution_count": null,
      "outputs": [
        {
          "output_type": "stream",
          "text": [
            "Foi\n",
            "\n",
            "\n",
            "200\n",
            "CPU times: user 36.4 s, sys: 156 ms, total: 36.5 s\n",
            "Wall time: 37 s\n"
          ],
          "name": "stdout"
        }
      ]
    },
    {
      "cell_type": "markdown",
      "metadata": {
        "id": "Uuy0n26f5EDV"
      },
      "source": [
        "#Renomeando colunas"
      ]
    },
    {
      "cell_type": "code",
      "metadata": {
        "id": "NvWrPkMwqKdS",
        "colab": {
          "base_uri": "https://localhost:8080/",
          "height": 457
        },
        "outputId": "d3ca2b33-2c4d-4c52-e9eb-200053c4bb0c"
      },
      "source": [
        "df = dados.rename(columns={'Papel':'Codigofundo',\n",
        "                        'Div.Yield':'DY',\n",
        "                        'Mrg Ebit':'MrgEbit',\n",
        "                        'Mrg. Líq.':'MrgLíq',\n",
        "                        'Liq. Corr.':'LiqCorr',\n",
        "                        'Patrim. Líq':'PatrimLíq',\n",
        "                        'Dív.Brut/ Patrim.':'DívBrutPatrim',\n",
        "                        'Cresc. Rec.5a':'CrescRec5a',\n",
        "                        'Liq.2meses':'Liq2meses',\n",
        "                        'P/L':'PL',\n",
        "                        'P/VP':'PVP'\n",
        "                        #'DY (6M)Média':'DY(6M)Media',\n",
        "                       # 'DY Ano':'DYAno',\n",
        "                        #'PatrimônioLíq.':'Patrimonio'\n",
        "                        #'QuantidadeAtivos': 'ativos'\n",
        "#, 'PatrimônioLíq.':'Patr Liqu'\n",
        "})\n",
        "df"
      ],
      "execution_count": null,
      "outputs": [
        {
          "output_type": "execute_result",
          "data": {
            "text/html": [
              "<div>\n",
              "<style scoped>\n",
              "    .dataframe tbody tr th:only-of-type {\n",
              "        vertical-align: middle;\n",
              "    }\n",
              "\n",
              "    .dataframe tbody tr th {\n",
              "        vertical-align: top;\n",
              "    }\n",
              "\n",
              "    .dataframe thead th {\n",
              "        text-align: right;\n",
              "    }\n",
              "</style>\n",
              "<table border=\"1\" class=\"dataframe\">\n",
              "  <thead>\n",
              "    <tr style=\"text-align: right;\">\n",
              "      <th></th>\n",
              "      <th>Codigofundo</th>\n",
              "      <th>Cotação</th>\n",
              "      <th>PL</th>\n",
              "      <th>PVP</th>\n",
              "      <th>PSR</th>\n",
              "      <th>DY</th>\n",
              "      <th>P/Ativo</th>\n",
              "      <th>P/Cap.Giro</th>\n",
              "      <th>P/EBIT</th>\n",
              "      <th>P/Ativ Circ.Liq</th>\n",
              "      <th>EV/EBIT</th>\n",
              "      <th>EV/EBITDA</th>\n",
              "      <th>MrgEbit</th>\n",
              "      <th>MrgLíq</th>\n",
              "      <th>LiqCorr</th>\n",
              "      <th>ROIC</th>\n",
              "      <th>ROE</th>\n",
              "      <th>Liq2meses</th>\n",
              "      <th>PatrimLíq</th>\n",
              "      <th>DívBrutPatrim</th>\n",
              "      <th>CrescRec5a</th>\n",
              "      <th>21</th>\n",
              "    </tr>\n",
              "  </thead>\n",
              "  <tbody>\n",
              "    <tr>\n",
              "      <th>0</th>\n",
              "      <td>CFLU4</td>\n",
              "      <td>1.000,00</td>\n",
              "      <td>0,00</td>\n",
              "      <td>0,00</td>\n",
              "      <td>0,000</td>\n",
              "      <td>0,00%</td>\n",
              "      <td>0,000</td>\n",
              "      <td>0,00</td>\n",
              "      <td>0,00</td>\n",
              "      <td>0,00</td>\n",
              "      <td>0,00</td>\n",
              "      <td>0,00</td>\n",
              "      <td>8,88%</td>\n",
              "      <td>10,72%</td>\n",
              "      <td>1,10</td>\n",
              "      <td>17,68%</td>\n",
              "      <td>32,15%</td>\n",
              "      <td>0,00</td>\n",
              "      <td>60.351.000,00</td>\n",
              "      <td>0,06</td>\n",
              "      <td>8,14%</td>\n",
              "      <td></td>\n",
              "    </tr>\n",
              "    <tr>\n",
              "      <th>1</th>\n",
              "      <td>MNSA3</td>\n",
              "      <td>0,42</td>\n",
              "      <td>0,00</td>\n",
              "      <td>0,00</td>\n",
              "      <td>0,000</td>\n",
              "      <td>0,00%</td>\n",
              "      <td>0,000</td>\n",
              "      <td>0,00</td>\n",
              "      <td>0,00</td>\n",
              "      <td>0,00</td>\n",
              "      <td>0,00</td>\n",
              "      <td>0,00</td>\n",
              "      <td>-208,15%</td>\n",
              "      <td>-362,66%</td>\n",
              "      <td>3,63</td>\n",
              "      <td>-13,50%</td>\n",
              "      <td>145,70%</td>\n",
              "      <td>0,00</td>\n",
              "      <td>-9.105.000,00</td>\n",
              "      <td>-6,52</td>\n",
              "      <td>-41,11%</td>\n",
              "      <td></td>\n",
              "    </tr>\n",
              "    <tr>\n",
              "      <th>2</th>\n",
              "      <td>CLAN3</td>\n",
              "      <td>0,00</td>\n",
              "      <td>0,00</td>\n",
              "      <td>0,00</td>\n",
              "      <td>0,000</td>\n",
              "      <td>0,00%</td>\n",
              "      <td>0,000</td>\n",
              "      <td>0,00</td>\n",
              "      <td>0,00</td>\n",
              "      <td>0,00</td>\n",
              "      <td>0,00</td>\n",
              "      <td>0,00</td>\n",
              "      <td>0,00%</td>\n",
              "      <td>0,00%</td>\n",
              "      <td>0,00</td>\n",
              "      <td>0,00%</td>\n",
              "      <td>-1,05%</td>\n",
              "      <td>0,00</td>\n",
              "      <td>1.012.240.000,00</td>\n",
              "      <td>0,00</td>\n",
              "      <td>-63,96%</td>\n",
              "      <td></td>\n",
              "    </tr>\n",
              "    <tr>\n",
              "      <th>3</th>\n",
              "      <td>CSTB3</td>\n",
              "      <td>150,00</td>\n",
              "      <td>0,00</td>\n",
              "      <td>0,00</td>\n",
              "      <td>0,000</td>\n",
              "      <td>0,00%</td>\n",
              "      <td>0,000</td>\n",
              "      <td>0,00</td>\n",
              "      <td>0,00</td>\n",
              "      <td>0,00</td>\n",
              "      <td>0,00</td>\n",
              "      <td>0,00</td>\n",
              "      <td>40,85%</td>\n",
              "      <td>28,98%</td>\n",
              "      <td>2,60</td>\n",
              "      <td>22,40%</td>\n",
              "      <td>20,11%</td>\n",
              "      <td>0,00</td>\n",
              "      <td>8.420.670.000,00</td>\n",
              "      <td>0,14</td>\n",
              "      <td>31,91%</td>\n",
              "      <td></td>\n",
              "    </tr>\n",
              "    <tr>\n",
              "      <th>4</th>\n",
              "      <td>MNSA4</td>\n",
              "      <td>0,47</td>\n",
              "      <td>0,00</td>\n",
              "      <td>0,00</td>\n",
              "      <td>0,000</td>\n",
              "      <td>0,00%</td>\n",
              "      <td>0,000</td>\n",
              "      <td>0,00</td>\n",
              "      <td>0,00</td>\n",
              "      <td>0,00</td>\n",
              "      <td>0,00</td>\n",
              "      <td>0,00</td>\n",
              "      <td>-208,15%</td>\n",
              "      <td>-362,66%</td>\n",
              "      <td>3,63</td>\n",
              "      <td>-13,50%</td>\n",
              "      <td>145,70%</td>\n",
              "      <td>0,00</td>\n",
              "      <td>-9.105.000,00</td>\n",
              "      <td>-6,52</td>\n",
              "      <td>-41,11%</td>\n",
              "      <td></td>\n",
              "    </tr>\n",
              "    <tr>\n",
              "      <th>...</th>\n",
              "      <td>...</td>\n",
              "      <td>...</td>\n",
              "      <td>...</td>\n",
              "      <td>...</td>\n",
              "      <td>...</td>\n",
              "      <td>...</td>\n",
              "      <td>...</td>\n",
              "      <td>...</td>\n",
              "      <td>...</td>\n",
              "      <td>...</td>\n",
              "      <td>...</td>\n",
              "      <td>...</td>\n",
              "      <td>...</td>\n",
              "      <td>...</td>\n",
              "      <td>...</td>\n",
              "      <td>...</td>\n",
              "      <td>...</td>\n",
              "      <td>...</td>\n",
              "      <td>...</td>\n",
              "      <td>...</td>\n",
              "      <td>...</td>\n",
              "      <td>...</td>\n",
              "    </tr>\n",
              "    <tr>\n",
              "      <th>969</th>\n",
              "      <td>BIDI4</td>\n",
              "      <td>23,76</td>\n",
              "      <td>3.491,83</td>\n",
              "      <td>18,91</td>\n",
              "      <td>0,000</td>\n",
              "      <td>0,03%</td>\n",
              "      <td>0,000</td>\n",
              "      <td>0,00</td>\n",
              "      <td>0,00</td>\n",
              "      <td>0,00</td>\n",
              "      <td>0,00</td>\n",
              "      <td>0,00</td>\n",
              "      <td>0,00%</td>\n",
              "      <td>0,00%</td>\n",
              "      <td>0,00</td>\n",
              "      <td>0,00%</td>\n",
              "      <td>0,54%</td>\n",
              "      <td>109.988.000,00</td>\n",
              "      <td>3.240.140.000,00</td>\n",
              "      <td>0,00</td>\n",
              "      <td>30,91%</td>\n",
              "      <td></td>\n",
              "    </tr>\n",
              "    <tr>\n",
              "      <th>970</th>\n",
              "      <td>BIDI11</td>\n",
              "      <td>72,18</td>\n",
              "      <td>3.535,92</td>\n",
              "      <td>19,15</td>\n",
              "      <td>0,000</td>\n",
              "      <td>0,03%</td>\n",
              "      <td>0,000</td>\n",
              "      <td>0,00</td>\n",
              "      <td>0,00</td>\n",
              "      <td>0,00</td>\n",
              "      <td>0,00</td>\n",
              "      <td>0,00</td>\n",
              "      <td>0,00%</td>\n",
              "      <td>0,00%</td>\n",
              "      <td>0,00</td>\n",
              "      <td>0,00%</td>\n",
              "      <td>0,54%</td>\n",
              "      <td>277.362.000,00</td>\n",
              "      <td>3.240.140.000,00</td>\n",
              "      <td>0,00</td>\n",
              "      <td>30,91%</td>\n",
              "      <td></td>\n",
              "    </tr>\n",
              "    <tr>\n",
              "      <th>971</th>\n",
              "      <td>BIDI3</td>\n",
              "      <td>24,47</td>\n",
              "      <td>3.596,17</td>\n",
              "      <td>19,47</td>\n",
              "      <td>0,000</td>\n",
              "      <td>0,03%</td>\n",
              "      <td>0,000</td>\n",
              "      <td>0,00</td>\n",
              "      <td>0,00</td>\n",
              "      <td>0,00</td>\n",
              "      <td>0,00</td>\n",
              "      <td>0,00</td>\n",
              "      <td>0,00%</td>\n",
              "      <td>0,00%</td>\n",
              "      <td>0,00</td>\n",
              "      <td>0,00%</td>\n",
              "      <td>0,54%</td>\n",
              "      <td>12.940.300,00</td>\n",
              "      <td>3.240.140.000,00</td>\n",
              "      <td>0,00</td>\n",
              "      <td>30,91%</td>\n",
              "      <td></td>\n",
              "    </tr>\n",
              "    <tr>\n",
              "      <th>972</th>\n",
              "      <td>NTCO3</td>\n",
              "      <td>54,60</td>\n",
              "      <td>4.879,16</td>\n",
              "      <td>2,62</td>\n",
              "      <td>1,938</td>\n",
              "      <td>0,00%</td>\n",
              "      <td>1,218</td>\n",
              "      <td>27,55</td>\n",
              "      <td>30,65</td>\n",
              "      <td>-4,90</td>\n",
              "      <td>33,67</td>\n",
              "      <td>15,77</td>\n",
              "      <td>6,32%</td>\n",
              "      <td>0,01%</td>\n",
              "      <td>1,18</td>\n",
              "      <td>5,05%</td>\n",
              "      <td>0,05%</td>\n",
              "      <td>406.215.000,00</td>\n",
              "      <td>28.691.300.000,00</td>\n",
              "      <td>0,49</td>\n",
              "      <td>0,00%</td>\n",
              "      <td></td>\n",
              "    </tr>\n",
              "    <tr>\n",
              "      <th>973</th>\n",
              "      <td>BBTG12</td>\n",
              "      <td>3,15</td>\n",
              "      <td>37.998,00</td>\n",
              "      <td>44.331,00</td>\n",
              "      <td>0,000</td>\n",
              "      <td>0,00%</td>\n",
              "      <td>0,000</td>\n",
              "      <td>0,00</td>\n",
              "      <td>0,00</td>\n",
              "      <td>0,00</td>\n",
              "      <td>0,00</td>\n",
              "      <td>0,00</td>\n",
              "      <td>0,00%</td>\n",
              "      <td>0,00%</td>\n",
              "      <td>0,00</td>\n",
              "      <td>0,00%</td>\n",
              "      <td>116,67%</td>\n",
              "      <td>0,00</td>\n",
              "      <td>6.000,00</td>\n",
              "      <td>0,00</td>\n",
              "      <td>0,00%</td>\n",
              "      <td></td>\n",
              "    </tr>\n",
              "  </tbody>\n",
              "</table>\n",
              "<p>974 rows × 22 columns</p>\n",
              "</div>"
            ],
            "text/plain": [
              "    Codigofundo   Cotação         PL  ... DívBrutPatrim CrescRec5a 21\n",
              "0         CFLU4  1.000,00       0,00  ...          0,06      8,14%   \n",
              "1         MNSA3      0,42       0,00  ...         -6,52    -41,11%   \n",
              "2         CLAN3      0,00       0,00  ...          0,00    -63,96%   \n",
              "3         CSTB3    150,00       0,00  ...          0,14     31,91%   \n",
              "4         MNSA4      0,47       0,00  ...         -6,52    -41,11%   \n",
              "..          ...       ...        ...  ...           ...        ... ..\n",
              "969       BIDI4     23,76   3.491,83  ...          0,00     30,91%   \n",
              "970      BIDI11     72,18   3.535,92  ...          0,00     30,91%   \n",
              "971       BIDI3     24,47   3.596,17  ...          0,00     30,91%   \n",
              "972       NTCO3     54,60   4.879,16  ...          0,49      0,00%   \n",
              "973      BBTG12      3,15  37.998,00  ...          0,00      0,00%   \n",
              "\n",
              "[974 rows x 22 columns]"
            ]
          },
          "metadata": {
            "tags": []
          },
          "execution_count": 4
        }
      ]
    },
    {
      "cell_type": "markdown",
      "metadata": {
        "id": "J6_rZmOQ5Ld9"
      },
      "source": [
        "# Tratando as colunas e convertendo em float"
      ]
    },
    {
      "cell_type": "code",
      "metadata": {
        "id": "gbme6OaSByvr"
      },
      "source": [
        "\n",
        "df['Cotação'] = df['Cotação'].apply(lambda x: float(x.replace(\".\",\"\").replace(\",\",\".\").replace(\"%\",\"\")))\n",
        "df['PL'] = df['PL'].apply(lambda x: float(x.replace(\".\",\"\").replace(\",\",\".\").replace(\"%\",\"\")))\n",
        "df['PVP'] = df['PVP'].apply(lambda x: float(x.replace(\".\",\"\").replace(\",\",\".\").replace(\"%\",\"\")))\n",
        "df['PSR'] = df['PSR'].apply(lambda x: float(x.replace(\".\",\"\").replace(\",\",\".\").replace(\"%\",\"\")))\n",
        "df['DY'] = df['DY'].apply(lambda x: float(x.replace(\".\",\"\").replace(\",\",\".\").replace(\"%\",\"\")))\n",
        "df['P/Ativo'] = df['P/Ativo'].apply(lambda x: float(x.replace(\".\",\"\").replace(\",\",\".\").replace(\"%\",\"\")))\n",
        "df['P/Cap.Giro'] = df['P/Cap.Giro'].apply(lambda x: float(x.replace(\".\",\"\").replace(\",\",\".\").replace(\"%\",\"\")))\n",
        "df['P/EBIT'] = df['P/EBIT'].apply(lambda x: float(x.replace(\".\",\"\").replace(\",\",\".\").replace(\"%\",\"\")))\n",
        "df['P/Ativ Circ.Liq'] = df['P/Ativ Circ.Liq'].apply(lambda x: float(x.replace(\".\",\"\").replace(\",\",\".\").replace(\"%\",\"\")))\n",
        "df['EV/EBIT'] = df['EV/EBIT'].apply(lambda x: float(x.replace(\".\",\"\").replace(\",\",\".\").replace(\"%\",\"\")))\n",
        "df['EV/EBITDA'] = df['EV/EBITDA'].apply(lambda x: float(x.replace(\".\",\"\").replace(\",\",\".\").replace(\"%\",\"\")))\n",
        "df['MrgEbit'] = df['MrgEbit'].apply(lambda x: float(x.replace(\".\",\"\").replace(\",\",\".\").replace(\"%\",\"\")))\n",
        "df['MrgLíq'] = df['MrgLíq'].apply(lambda x: float(x.replace(\".\",\"\").replace(\",\",\".\").replace(\"%\",\"\")))\n",
        "df['LiqCorr'] = df['LiqCorr'].apply(lambda x: float(x.replace(\".\",\"\").replace(\",\",\".\").replace(\"%\",\"\")))\n",
        "df['ROIC'] = df['ROIC'].apply(lambda x: float(x.replace(\".\",\"\").replace(\",\",\".\").replace(\"%\",\"\")))\n",
        "df['ROE'] = df['ROE'].apply(lambda x: float(x.replace(\".\",\"\").replace(\",\",\".\").replace(\"%\",\"\")))\n",
        "df['Liq2meses'] = df['Liq2meses'].apply(lambda x: float(x.replace(\".\",\"\").replace(\",\",\".\").replace(\"%\",\"\")))\n",
        "df['PatrimLíq'] = df['PatrimLíq'].apply(lambda x: float(x.replace(\".\",\"\").replace(\",\",\".\").replace(\"%\",\"\")))\n",
        "df['DívBrutPatrim'] = df['DívBrutPatrim'].apply(lambda x: float(x.replace(\".\",\"\").replace(\",\",\".\").replace(\"%\",\"\")))\n",
        "df['CrescRec5a'] = df['CrescRec5a'].apply(lambda x: float(x.replace(\".\",\"\").replace(\",\",\".\").replace(\"%\",\"\")))\t"
      ],
      "execution_count": null,
      "outputs": []
    },
    {
      "cell_type": "code",
      "metadata": {
        "id": "c-xOJvPZIp3B"
      },
      "source": [
        "df.dropna(inplace=True) "
      ],
      "execution_count": null,
      "outputs": []
    },
    {
      "cell_type": "markdown",
      "metadata": {
        "id": "rAGEtFXx49Bo"
      },
      "source": [
        "#Filtros"
      ]
    },
    {
      "cell_type": "code",
      "metadata": {
        "id": "Ebt0oxblA2pf"
      },
      "source": [
        "# DY  maior que 2,50% ao ano\n",
        "# df =  df.query('PSR <= 1.50')"
      ],
      "execution_count": null,
      "outputs": []
    },
    {
      "cell_type": "code",
      "metadata": {
        "id": "kx8sBPQ13_h8"
      },
      "source": [
        "# Patrimonio liquido acima de 200 milhoes\n",
        "df = df.query('PatrimLíq >= 2000000000')"
      ],
      "execution_count": null,
      "outputs": []
    },
    {
      "cell_type": "code",
      "metadata": {
        "id": "aygZUTgP3i4e"
      },
      "source": [
        "# Liquidez ultimos 2 meses maior que ou igual a 200 mil\n",
        "df = df.query('Liq2meses\t >= 200000')  "
      ],
      "execution_count": null,
      "outputs": []
    },
    {
      "cell_type": "code",
      "metadata": {
        "id": "zW7tSHh90U2V"
      },
      "source": [
        "# DY  maior que 2,50% ao ano\n",
        "df =  df.query('DY >= 5.25')"
      ],
      "execution_count": null,
      "outputs": []
    },
    {
      "cell_type": "code",
      "metadata": {
        "id": "KdtIdVdG-WUe"
      },
      "source": [
        "# P/L menor que 15x\n",
        "df =  df.query('PL <= 15.00')"
      ],
      "execution_count": null,
      "outputs": []
    },
    {
      "cell_type": "code",
      "metadata": {
        "id": "BYxFeSjW32Oy"
      },
      "source": [
        "# Crescimento superior a 10% nos ultimos 5 anos\n",
        "df = df.query('CrescRec5a >= 10.00')  "
      ],
      "execution_count": null,
      "outputs": []
    },
    {
      "cell_type": "code",
      "metadata": {
        "id": "_Sc71Cak4DTA"
      },
      "source": [
        "# ROE maior que 15% ao ano\n",
        "df = df.query('ROE >= 15.00')"
      ],
      "execution_count": null,
      "outputs": []
    },
    {
      "cell_type": "code",
      "metadata": {
        "id": "rLvDd9D94EtI"
      },
      "source": [
        "# Liquidez corrente maior que 1,50%\n",
        "df =  df.query('LiqCorr >= 1.00')"
      ],
      "execution_count": null,
      "outputs": []
    },
    {
      "cell_type": "code",
      "metadata": {
        "id": "4FHWwYYBsfOG"
      },
      "source": [
        "df = df.query(\"Codigofundo not in ['TAEE3','TAEE4','ALUP3','ALUP4','UNIP3','KLBN4','KLBN3','USIM3','RAPT4','BRKM5']\")\n"
      ],
      "execution_count": null,
      "outputs": []
    },
    {
      "cell_type": "code",
      "metadata": {
        "id": "_GKmBMmkRkCx"
      },
      "source": [
        "#df.to_excel('fundos_imobiliarios_.xlsx')\n",
        "df.to_excel('acoes.xlsx')"
      ],
      "execution_count": null,
      "outputs": []
    },
    {
      "cell_type": "code",
      "metadata": {
        "colab": {
          "base_uri": "https://localhost:8080/",
          "height": 304
        },
        "id": "fRZ7L8dVSyEw",
        "outputId": "0bd7eef6-61c8-4c68-923f-de6f365a93a7"
      },
      "source": [
        "#df = pd.read_csv('/content/fundos_imobiliarios_.csv', sep=';', encoding='latin-1',decimal='.', thousands='.')\n",
        "df = pd.read_excel('/content/acoes.xlsx')\n",
        "df"
      ],
      "execution_count": null,
      "outputs": [
        {
          "output_type": "execute_result",
          "data": {
            "text/html": [
              "<div>\n",
              "<style scoped>\n",
              "    .dataframe tbody tr th:only-of-type {\n",
              "        vertical-align: middle;\n",
              "    }\n",
              "\n",
              "    .dataframe tbody tr th {\n",
              "        vertical-align: top;\n",
              "    }\n",
              "\n",
              "    .dataframe thead th {\n",
              "        text-align: right;\n",
              "    }\n",
              "</style>\n",
              "<table border=\"1\" class=\"dataframe\">\n",
              "  <thead>\n",
              "    <tr style=\"text-align: right;\">\n",
              "      <th></th>\n",
              "      <th>Unnamed: 0</th>\n",
              "      <th>Codigofundo</th>\n",
              "      <th>Cotação</th>\n",
              "      <th>PL</th>\n",
              "      <th>PVP</th>\n",
              "      <th>PSR</th>\n",
              "      <th>DY</th>\n",
              "      <th>P/Ativo</th>\n",
              "      <th>P/Cap.Giro</th>\n",
              "      <th>P/EBIT</th>\n",
              "      <th>P/Ativ Circ.Liq</th>\n",
              "      <th>EV/EBIT</th>\n",
              "      <th>EV/EBITDA</th>\n",
              "      <th>MrgEbit</th>\n",
              "      <th>MrgLíq</th>\n",
              "      <th>LiqCorr</th>\n",
              "      <th>ROIC</th>\n",
              "      <th>ROE</th>\n",
              "      <th>Liq2meses</th>\n",
              "      <th>PatrimLíq</th>\n",
              "      <th>DívBrutPatrim</th>\n",
              "      <th>CrescRec5a</th>\n",
              "      <th>21</th>\n",
              "    </tr>\n",
              "  </thead>\n",
              "  <tbody>\n",
              "    <tr>\n",
              "      <th>0</th>\n",
              "      <td>456</td>\n",
              "      <td>CYRE3</td>\n",
              "      <td>20.08</td>\n",
              "      <td>4.17</td>\n",
              "      <td>1.41</td>\n",
              "      <td>1.976</td>\n",
              "      <td>13.19</td>\n",
              "      <td>0.689</td>\n",
              "      <td>2.04</td>\n",
              "      <td>13.04</td>\n",
              "      <td>16.25</td>\n",
              "      <td>14.32</td>\n",
              "      <td>13.46</td>\n",
              "      <td>15.15</td>\n",
              "      <td>48.97</td>\n",
              "      <td>2.78</td>\n",
              "      <td>6.43</td>\n",
              "      <td>33.79</td>\n",
              "      <td>135311000</td>\n",
              "      <td>5696170000</td>\n",
              "      <td>0.47</td>\n",
              "      <td>10.74</td>\n",
              "      <td>NaN</td>\n",
              "    </tr>\n",
              "    <tr>\n",
              "      <th>1</th>\n",
              "      <td>485</td>\n",
              "      <td>RAPT3</td>\n",
              "      <td>12.65</td>\n",
              "      <td>5.50</td>\n",
              "      <td>2.00</td>\n",
              "      <td>0.716</td>\n",
              "      <td>5.85</td>\n",
              "      <td>0.461</td>\n",
              "      <td>1.59</td>\n",
              "      <td>5.66</td>\n",
              "      <td>-4.68</td>\n",
              "      <td>7.85</td>\n",
              "      <td>6.29</td>\n",
              "      <td>12.64</td>\n",
              "      <td>16.47</td>\n",
              "      <td>1.93</td>\n",
              "      <td>12.41</td>\n",
              "      <td>36.45</td>\n",
              "      <td>392670</td>\n",
              "      <td>2183370000</td>\n",
              "      <td>1.81</td>\n",
              "      <td>25.34</td>\n",
              "      <td>NaN</td>\n",
              "    </tr>\n",
              "    <tr>\n",
              "      <th>2</th>\n",
              "      <td>487</td>\n",
              "      <td>TAEE11</td>\n",
              "      <td>39.40</td>\n",
              "      <td>5.53</td>\n",
              "      <td>2.06</td>\n",
              "      <td>3.591</td>\n",
              "      <td>13.49</td>\n",
              "      <td>0.904</td>\n",
              "      <td>7.88</td>\n",
              "      <td>5.17</td>\n",
              "      <td>-2.34</td>\n",
              "      <td>7.24</td>\n",
              "      <td>7.20</td>\n",
              "      <td>69.43</td>\n",
              "      <td>64.95</td>\n",
              "      <td>2.93</td>\n",
              "      <td>18.85</td>\n",
              "      <td>37.20</td>\n",
              "      <td>64019200</td>\n",
              "      <td>6598210000</td>\n",
              "      <td>0.98</td>\n",
              "      <td>32.43</td>\n",
              "      <td>NaN</td>\n",
              "    </tr>\n",
              "    <tr>\n",
              "      <th>3</th>\n",
              "      <td>496</td>\n",
              "      <td>ENBR3</td>\n",
              "      <td>17.20</td>\n",
              "      <td>5.67</td>\n",
              "      <td>1.00</td>\n",
              "      <td>0.638</td>\n",
              "      <td>5.81</td>\n",
              "      <td>0.329</td>\n",
              "      <td>32.14</td>\n",
              "      <td>3.07</td>\n",
              "      <td>-0.84</td>\n",
              "      <td>5.43</td>\n",
              "      <td>4.51</td>\n",
              "      <td>20.76</td>\n",
              "      <td>12.51</td>\n",
              "      <td>1.04</td>\n",
              "      <td>11.90</td>\n",
              "      <td>17.54</td>\n",
              "      <td>49721400</td>\n",
              "      <td>10487500000</td>\n",
              "      <td>0.92</td>\n",
              "      <td>10.99</td>\n",
              "      <td>NaN</td>\n",
              "    </tr>\n",
              "    <tr>\n",
              "      <th>4</th>\n",
              "      <td>519</td>\n",
              "      <td>VALE3</td>\n",
              "      <td>109.70</td>\n",
              "      <td>6.36</td>\n",
              "      <td>2.78</td>\n",
              "      <td>1.972</td>\n",
              "      <td>8.06</td>\n",
              "      <td>1.198</td>\n",
              "      <td>10.47</td>\n",
              "      <td>3.25</td>\n",
              "      <td>-4.00</td>\n",
              "      <td>3.26</td>\n",
              "      <td>2.97</td>\n",
              "      <td>60.67</td>\n",
              "      <td>30.41</td>\n",
              "      <td>1.77</td>\n",
              "      <td>44.97</td>\n",
              "      <td>43.71</td>\n",
              "      <td>2616650000</td>\n",
              "      <td>208437000000</td>\n",
              "      <td>0.33</td>\n",
              "      <td>27.55</td>\n",
              "      <td>NaN</td>\n",
              "    </tr>\n",
              "    <tr>\n",
              "      <th>5</th>\n",
              "      <td>541</td>\n",
              "      <td>CAML3</td>\n",
              "      <td>8.90</td>\n",
              "      <td>7.14</td>\n",
              "      <td>1.22</td>\n",
              "      <td>0.412</td>\n",
              "      <td>6.88</td>\n",
              "      <td>0.443</td>\n",
              "      <td>1.19</td>\n",
              "      <td>5.51</td>\n",
              "      <td>9.14</td>\n",
              "      <td>7.69</td>\n",
              "      <td>6.02</td>\n",
              "      <td>7.47</td>\n",
              "      <td>5.77</td>\n",
              "      <td>2.19</td>\n",
              "      <td>13.47</td>\n",
              "      <td>17.09</td>\n",
              "      <td>12734600</td>\n",
              "      <td>2699680000</td>\n",
              "      <td>1.03</td>\n",
              "      <td>21.29</td>\n",
              "      <td>NaN</td>\n",
              "    </tr>\n",
              "    <tr>\n",
              "      <th>6</th>\n",
              "      <td>688</td>\n",
              "      <td>EGIE3</td>\n",
              "      <td>37.67</td>\n",
              "      <td>12.98</td>\n",
              "      <td>3.76</td>\n",
              "      <td>2.300</td>\n",
              "      <td>6.56</td>\n",
              "      <td>0.813</td>\n",
              "      <td>10.21</td>\n",
              "      <td>5.45</td>\n",
              "      <td>-1.47</td>\n",
              "      <td>7.81</td>\n",
              "      <td>6.72</td>\n",
              "      <td>42.17</td>\n",
              "      <td>17.72</td>\n",
              "      <td>1.53</td>\n",
              "      <td>17.62</td>\n",
              "      <td>28.99</td>\n",
              "      <td>49690800</td>\n",
              "      <td>8166660000</td>\n",
              "      <td>2.25</td>\n",
              "      <td>18.97</td>\n",
              "      <td>NaN</td>\n",
              "    </tr>\n",
              "  </tbody>\n",
              "</table>\n",
              "</div>"
            ],
            "text/plain": [
              "   Unnamed: 0 Codigofundo  Cotação  ...  DívBrutPatrim  CrescRec5a  21\n",
              "0         456       CYRE3    20.08  ...           0.47       10.74 NaN\n",
              "1         485       RAPT3    12.65  ...           1.81       25.34 NaN\n",
              "2         487      TAEE11    39.40  ...           0.98       32.43 NaN\n",
              "3         496       ENBR3    17.20  ...           0.92       10.99 NaN\n",
              "4         519       VALE3   109.70  ...           0.33       27.55 NaN\n",
              "5         541       CAML3     8.90  ...           1.03       21.29 NaN\n",
              "6         688       EGIE3    37.67  ...           2.25       18.97 NaN\n",
              "\n",
              "[7 rows x 23 columns]"
            ]
          },
          "metadata": {
            "tags": []
          },
          "execution_count": 17
        }
      ]
    },
    {
      "cell_type": "code",
      "metadata": {
        "colab": {
          "base_uri": "https://localhost:8080/"
        },
        "id": "-MPAULk1TEtn",
        "outputId": "e1ad2d45-b5ab-46c4-d5ea-1f3f95154c76"
      },
      "source": [
        "df.dtypes"
      ],
      "execution_count": null,
      "outputs": [
        {
          "output_type": "execute_result",
          "data": {
            "text/plain": [
              "Unnamed: 0           int64\n",
              "Codigofundo         object\n",
              "Cotação            float64\n",
              "PL                 float64\n",
              "PVP                float64\n",
              "PSR                float64\n",
              "DY                 float64\n",
              "P/Ativo            float64\n",
              "P/Cap.Giro         float64\n",
              "P/EBIT             float64\n",
              "P/Ativ Circ.Liq    float64\n",
              "EV/EBIT            float64\n",
              "EV/EBITDA          float64\n",
              "MrgEbit            float64\n",
              "MrgLíq             float64\n",
              "LiqCorr            float64\n",
              "ROIC               float64\n",
              "ROE                float64\n",
              "Liq2meses            int64\n",
              "PatrimLíq            int64\n",
              "DívBrutPatrim      float64\n",
              "CrescRec5a         float64\n",
              "21                 float64\n",
              "dtype: object"
            ]
          },
          "metadata": {
            "tags": []
          },
          "execution_count": 18
        }
      ]
    },
    {
      "cell_type": "code",
      "metadata": {
        "id": "jlXTHpXcXmQd"
      },
      "source": [
        "df.reset_index(inplace=True)"
      ],
      "execution_count": null,
      "outputs": []
    },
    {
      "cell_type": "code",
      "metadata": {
        "colab": {
          "base_uri": "https://localhost:8080/"
        },
        "id": "O4EbOO-2aUyW",
        "outputId": "dce630fd-3451-48d6-ad0f-99d627b1f13c"
      },
      "source": [
        "symbols = df['Codigofundo']+'.SA'\n",
        "symbols"
      ],
      "execution_count": null,
      "outputs": [
        {
          "output_type": "execute_result",
          "data": {
            "text/plain": [
              "0     CYRE3.SA\n",
              "1     RAPT3.SA\n",
              "2    TAEE11.SA\n",
              "3     ENBR3.SA\n",
              "4     VALE3.SA\n",
              "5     CAML3.SA\n",
              "6     EGIE3.SA\n",
              "Name: Codigofundo, dtype: object"
            ]
          },
          "metadata": {
            "tags": []
          },
          "execution_count": 20
        }
      ]
    },
    {
      "cell_type": "code",
      "metadata": {
        "id": "310nu5aIamyg"
      },
      "source": [
        "start = datetime(2015, 1, 1)\n",
        "#end = datetime(2021, 7, 30)\n",
        "end = datetime.today()- timedelta(days=1)"
      ],
      "execution_count": null,
      "outputs": []
    },
    {
      "cell_type": "code",
      "metadata": {
        "id": "nsWpdQ8Va4N5"
      },
      "source": [
        "def pega_fundos(name):\n",
        "  stock = yf.download(name, start = start, end = end)\n",
        "  return stock"
      ],
      "execution_count": null,
      "outputs": []
    },
    {
      "cell_type": "code",
      "metadata": {
        "colab": {
          "base_uri": "https://localhost:8080/"
        },
        "id": "Ukz4yqlSbRI1",
        "outputId": "adc9cb8a-2f1a-4128-d2a4-da8796a1d83a"
      },
      "source": [
        "stock_dict = {}\n",
        "for symbol in symbols:\n",
        "  try:\n",
        "    stock_dict[symbol] = pega_fundos(symbol)\n",
        "  except:\n",
        "    print('NÃO DEU CERTO PARA O TICKET',symbol)\n",
        "print('TERMINOU')"
      ],
      "execution_count": null,
      "outputs": [
        {
          "output_type": "stream",
          "text": [
            "[*********************100%***********************]  1 of 1 completed\n",
            "[*********************100%***********************]  1 of 1 completed\n",
            "[*********************100%***********************]  1 of 1 completed\n",
            "[*********************100%***********************]  1 of 1 completed\n",
            "[*********************100%***********************]  1 of 1 completed\n",
            "[*********************100%***********************]  1 of 1 completed\n",
            "[*********************100%***********************]  1 of 1 completed\n",
            "TERMINOU\n"
          ],
          "name": "stdout"
        }
      ]
    },
    {
      "cell_type": "code",
      "metadata": {
        "id": "uTzbQ85KcHRG"
      },
      "source": [
        "#stock_dict['JHSF3.SA']"
      ],
      "execution_count": null,
      "outputs": []
    },
    {
      "cell_type": "code",
      "metadata": {
        "id": "u6UdUfw0WsO1"
      },
      "source": [
        ""
      ],
      "execution_count": null,
      "outputs": []
    },
    {
      "cell_type": "code",
      "metadata": {
        "id": "B4t26lQXcziH",
        "colab": {
          "base_uri": "https://localhost:8080/",
          "height": 341
        },
        "outputId": "94b22f21-707a-45c9-c9d8-f3404335b53b"
      },
      "source": [
        "returns = pd.DataFrame()\n",
        "for key in stock_dict.keys():\n",
        "  returns[key] = stock_dict[key]['Adj Close'].pct_change()\n",
        "\n",
        "returns.head()"
      ],
      "execution_count": null,
      "outputs": [
        {
          "output_type": "execute_result",
          "data": {
            "text/html": [
              "<div>\n",
              "<style scoped>\n",
              "    .dataframe tbody tr th:only-of-type {\n",
              "        vertical-align: middle;\n",
              "    }\n",
              "\n",
              "    .dataframe tbody tr th {\n",
              "        vertical-align: top;\n",
              "    }\n",
              "\n",
              "    .dataframe thead th {\n",
              "        text-align: right;\n",
              "    }\n",
              "</style>\n",
              "<table border=\"1\" class=\"dataframe\">\n",
              "  <thead>\n",
              "    <tr style=\"text-align: right;\">\n",
              "      <th></th>\n",
              "      <th>CYRE3.SA</th>\n",
              "      <th>RAPT3.SA</th>\n",
              "      <th>TAEE11.SA</th>\n",
              "      <th>ENBR3.SA</th>\n",
              "      <th>VALE3.SA</th>\n",
              "      <th>CAML3.SA</th>\n",
              "      <th>EGIE3.SA</th>\n",
              "    </tr>\n",
              "    <tr>\n",
              "      <th>Date</th>\n",
              "      <th></th>\n",
              "      <th></th>\n",
              "      <th></th>\n",
              "      <th></th>\n",
              "      <th></th>\n",
              "      <th></th>\n",
              "      <th></th>\n",
              "    </tr>\n",
              "  </thead>\n",
              "  <tbody>\n",
              "    <tr>\n",
              "      <th>2015-01-02</th>\n",
              "      <td>NaN</td>\n",
              "      <td>NaN</td>\n",
              "      <td>NaN</td>\n",
              "      <td>NaN</td>\n",
              "      <td>NaN</td>\n",
              "      <td>NaN</td>\n",
              "      <td>NaN</td>\n",
              "    </tr>\n",
              "    <tr>\n",
              "      <th>2015-01-05</th>\n",
              "      <td>0.025837</td>\n",
              "      <td>0.006250</td>\n",
              "      <td>-0.003713</td>\n",
              "      <td>-0.040092</td>\n",
              "      <td>-0.015038</td>\n",
              "      <td>NaN</td>\n",
              "      <td>0.001227</td>\n",
              "    </tr>\n",
              "    <tr>\n",
              "      <th>2015-01-06</th>\n",
              "      <td>0.027985</td>\n",
              "      <td>0.086957</td>\n",
              "      <td>0.001597</td>\n",
              "      <td>0.016706</td>\n",
              "      <td>0.040076</td>\n",
              "      <td>NaN</td>\n",
              "      <td>0.020214</td>\n",
              "    </tr>\n",
              "    <tr>\n",
              "      <th>2015-01-07</th>\n",
              "      <td>0.026316</td>\n",
              "      <td>0.108571</td>\n",
              "      <td>0.001595</td>\n",
              "      <td>0.038732</td>\n",
              "      <td>0.036697</td>\n",
              "      <td>NaN</td>\n",
              "      <td>0.025218</td>\n",
              "    </tr>\n",
              "    <tr>\n",
              "      <th>2015-01-08</th>\n",
              "      <td>0.007958</td>\n",
              "      <td>-0.010309</td>\n",
              "      <td>0.009554</td>\n",
              "      <td>0.028248</td>\n",
              "      <td>0.010619</td>\n",
              "      <td>NaN</td>\n",
              "      <td>0.010248</td>\n",
              "    </tr>\n",
              "  </tbody>\n",
              "</table>\n",
              "</div>"
            ],
            "text/plain": [
              "            CYRE3.SA  RAPT3.SA  TAEE11.SA  ...  VALE3.SA  CAML3.SA  EGIE3.SA\n",
              "Date                                       ...                              \n",
              "2015-01-02       NaN       NaN        NaN  ...       NaN       NaN       NaN\n",
              "2015-01-05  0.025837  0.006250  -0.003713  ... -0.015038       NaN  0.001227\n",
              "2015-01-06  0.027985  0.086957   0.001597  ...  0.040076       NaN  0.020214\n",
              "2015-01-07  0.026316  0.108571   0.001595  ...  0.036697       NaN  0.025218\n",
              "2015-01-08  0.007958 -0.010309   0.009554  ...  0.010619       NaN  0.010248\n",
              "\n",
              "[5 rows x 7 columns]"
            ]
          },
          "metadata": {
            "tags": []
          },
          "execution_count": 25
        }
      ]
    },
    {
      "cell_type": "code",
      "metadata": {
        "id": "MRn294ZA0RlG",
        "colab": {
          "base_uri": "https://localhost:8080/",
          "height": 318
        },
        "outputId": "432ae14d-2dab-475c-bb0b-efdfcbc43992"
      },
      "source": [
        "returns.describe()"
      ],
      "execution_count": null,
      "outputs": [
        {
          "output_type": "execute_result",
          "data": {
            "text/html": [
              "<div>\n",
              "<style scoped>\n",
              "    .dataframe tbody tr th:only-of-type {\n",
              "        vertical-align: middle;\n",
              "    }\n",
              "\n",
              "    .dataframe tbody tr th {\n",
              "        vertical-align: top;\n",
              "    }\n",
              "\n",
              "    .dataframe thead th {\n",
              "        text-align: right;\n",
              "    }\n",
              "</style>\n",
              "<table border=\"1\" class=\"dataframe\">\n",
              "  <thead>\n",
              "    <tr style=\"text-align: right;\">\n",
              "      <th></th>\n",
              "      <th>CYRE3.SA</th>\n",
              "      <th>RAPT3.SA</th>\n",
              "      <th>TAEE11.SA</th>\n",
              "      <th>ENBR3.SA</th>\n",
              "      <th>VALE3.SA</th>\n",
              "      <th>CAML3.SA</th>\n",
              "      <th>EGIE3.SA</th>\n",
              "    </tr>\n",
              "  </thead>\n",
              "  <tbody>\n",
              "    <tr>\n",
              "      <th>count</th>\n",
              "      <td>1634.000000</td>\n",
              "      <td>1607.000000</td>\n",
              "      <td>1634.000000</td>\n",
              "      <td>1634.000000</td>\n",
              "      <td>1634.000000</td>\n",
              "      <td>952.000000</td>\n",
              "      <td>1634.000000</td>\n",
              "    </tr>\n",
              "    <tr>\n",
              "      <th>mean</th>\n",
              "      <td>0.001009</td>\n",
              "      <td>0.001516</td>\n",
              "      <td>0.001000</td>\n",
              "      <td>0.000811</td>\n",
              "      <td>0.001647</td>\n",
              "      <td>0.000337</td>\n",
              "      <td>0.000601</td>\n",
              "    </tr>\n",
              "    <tr>\n",
              "      <th>std</th>\n",
              "      <td>0.028777</td>\n",
              "      <td>0.033277</td>\n",
              "      <td>0.015622</td>\n",
              "      <td>0.019493</td>\n",
              "      <td>0.030836</td>\n",
              "      <td>0.020500</td>\n",
              "      <td>0.015955</td>\n",
              "    </tr>\n",
              "    <tr>\n",
              "      <th>min</th>\n",
              "      <td>-0.246502</td>\n",
              "      <td>-0.307566</td>\n",
              "      <td>-0.083085</td>\n",
              "      <td>-0.127682</td>\n",
              "      <td>-0.245592</td>\n",
              "      <td>-0.089247</td>\n",
              "      <td>-0.096285</td>\n",
              "    </tr>\n",
              "    <tr>\n",
              "      <th>25%</th>\n",
              "      <td>-0.013554</td>\n",
              "      <td>-0.013636</td>\n",
              "      <td>-0.008195</td>\n",
              "      <td>-0.009833</td>\n",
              "      <td>-0.014674</td>\n",
              "      <td>-0.011536</td>\n",
              "      <td>-0.008403</td>\n",
              "    </tr>\n",
              "    <tr>\n",
              "      <th>50%</th>\n",
              "      <td>0.000000</td>\n",
              "      <td>0.000000</td>\n",
              "      <td>0.000353</td>\n",
              "      <td>0.000000</td>\n",
              "      <td>0.000593</td>\n",
              "      <td>0.000000</td>\n",
              "      <td>0.000093</td>\n",
              "    </tr>\n",
              "    <tr>\n",
              "      <th>75%</th>\n",
              "      <td>0.016065</td>\n",
              "      <td>0.017616</td>\n",
              "      <td>0.009848</td>\n",
              "      <td>0.010881</td>\n",
              "      <td>0.016585</td>\n",
              "      <td>0.010993</td>\n",
              "      <td>0.009262</td>\n",
              "    </tr>\n",
              "    <tr>\n",
              "      <th>max</th>\n",
              "      <td>0.180556</td>\n",
              "      <td>0.151079</td>\n",
              "      <td>0.087322</td>\n",
              "      <td>0.155556</td>\n",
              "      <td>0.213579</td>\n",
              "      <td>0.099379</td>\n",
              "      <td>0.099224</td>\n",
              "    </tr>\n",
              "  </tbody>\n",
              "</table>\n",
              "</div>"
            ],
            "text/plain": [
              "          CYRE3.SA     RAPT3.SA  ...    CAML3.SA     EGIE3.SA\n",
              "count  1634.000000  1607.000000  ...  952.000000  1634.000000\n",
              "mean      0.001009     0.001516  ...    0.000337     0.000601\n",
              "std       0.028777     0.033277  ...    0.020500     0.015955\n",
              "min      -0.246502    -0.307566  ...   -0.089247    -0.096285\n",
              "25%      -0.013554    -0.013636  ...   -0.011536    -0.008403\n",
              "50%       0.000000     0.000000  ...    0.000000     0.000093\n",
              "75%       0.016065     0.017616  ...    0.010993     0.009262\n",
              "max       0.180556     0.151079  ...    0.099379     0.099224\n",
              "\n",
              "[8 rows x 7 columns]"
            ]
          },
          "metadata": {
            "tags": []
          },
          "execution_count": 26
        }
      ]
    },
    {
      "cell_type": "code",
      "metadata": {
        "id": "4cIB2pCwdcvu"
      },
      "source": [
        "discount_dict = {}\n",
        "def calcula_desconto(df):\n",
        "  max_price = df['Adj Close'].describe()['75%']\n",
        "  last_price = df['Adj Close'].iloc[-1]\n",
        "  return ((last_price - max_price)/max_price)*100"
      ],
      "execution_count": null,
      "outputs": []
    },
    {
      "cell_type": "code",
      "metadata": {
        "id": "mBeAJZTgejyZ",
        "colab": {
          "base_uri": "https://localhost:8080/"
        },
        "outputId": "0c24a54d-4ecc-465b-ccc8-0a4bd8d35432"
      },
      "source": [
        "for tick in stock_dict.keys():\n",
        "  try:\n",
        "    discount_dict[tick] =  calcula_desconto(stock_dict[tick])\n",
        "  except:\n",
        "    discount_dict[tick] = 0\n",
        "discount_dict"
      ],
      "execution_count": null,
      "outputs": [
        {
          "output_type": "execute_result",
          "data": {
            "text/plain": [
              "{'CAML3.SA': -10.191727996298473,\n",
              " 'CYRE3.SA': -0.729088470623779,\n",
              " 'EGIE3.SA': -4.221667271648467,\n",
              " 'ENBR3.SA': 0.07168781753208807,\n",
              " 'RAPT3.SA': 67.31517421382156,\n",
              " 'TAEE11.SA': 70.59305867756972,\n",
              " 'VALE3.SA': 135.44293910562095}"
            ]
          },
          "metadata": {
            "tags": []
          },
          "execution_count": 28
        }
      ]
    },
    {
      "cell_type": "code",
      "metadata": {
        "id": "7RX3rzfDfA7y",
        "colab": {
          "base_uri": "https://localhost:8080/",
          "height": 267
        },
        "outputId": "2497cf54-90f3-4214-8616-2b766a064834"
      },
      "source": [
        "def pega_setor(stock):\n",
        "  return[x for x  in df[symbols == stock]['Codigofundo']]\n",
        "\n",
        "stock_info_df = pd.DataFrame.from_dict(discount_dict, orient='index').reset_index()\n",
        "stock_info_df.columns = ['ticker','discount']\n",
        "#stock_info_df['Codigofundo'] = [pega_setor(tick)[0] for tick in stock_info_df['ticker']]\n",
        "\n",
        "stock_info_df"
      ],
      "execution_count": null,
      "outputs": [
        {
          "output_type": "execute_result",
          "data": {
            "text/html": [
              "<div>\n",
              "<style scoped>\n",
              "    .dataframe tbody tr th:only-of-type {\n",
              "        vertical-align: middle;\n",
              "    }\n",
              "\n",
              "    .dataframe tbody tr th {\n",
              "        vertical-align: top;\n",
              "    }\n",
              "\n",
              "    .dataframe thead th {\n",
              "        text-align: right;\n",
              "    }\n",
              "</style>\n",
              "<table border=\"1\" class=\"dataframe\">\n",
              "  <thead>\n",
              "    <tr style=\"text-align: right;\">\n",
              "      <th></th>\n",
              "      <th>ticker</th>\n",
              "      <th>discount</th>\n",
              "    </tr>\n",
              "  </thead>\n",
              "  <tbody>\n",
              "    <tr>\n",
              "      <th>0</th>\n",
              "      <td>CYRE3.SA</td>\n",
              "      <td>-0.729088</td>\n",
              "    </tr>\n",
              "    <tr>\n",
              "      <th>1</th>\n",
              "      <td>RAPT3.SA</td>\n",
              "      <td>67.315174</td>\n",
              "    </tr>\n",
              "    <tr>\n",
              "      <th>2</th>\n",
              "      <td>TAEE11.SA</td>\n",
              "      <td>70.593059</td>\n",
              "    </tr>\n",
              "    <tr>\n",
              "      <th>3</th>\n",
              "      <td>ENBR3.SA</td>\n",
              "      <td>0.071688</td>\n",
              "    </tr>\n",
              "    <tr>\n",
              "      <th>4</th>\n",
              "      <td>VALE3.SA</td>\n",
              "      <td>135.442939</td>\n",
              "    </tr>\n",
              "    <tr>\n",
              "      <th>5</th>\n",
              "      <td>CAML3.SA</td>\n",
              "      <td>-10.191728</td>\n",
              "    </tr>\n",
              "    <tr>\n",
              "      <th>6</th>\n",
              "      <td>EGIE3.SA</td>\n",
              "      <td>-4.221667</td>\n",
              "    </tr>\n",
              "  </tbody>\n",
              "</table>\n",
              "</div>"
            ],
            "text/plain": [
              "      ticker    discount\n",
              "0   CYRE3.SA   -0.729088\n",
              "1   RAPT3.SA   67.315174\n",
              "2  TAEE11.SA   70.593059\n",
              "3   ENBR3.SA    0.071688\n",
              "4   VALE3.SA  135.442939\n",
              "5   CAML3.SA  -10.191728\n",
              "6   EGIE3.SA   -4.221667"
            ]
          },
          "metadata": {
            "tags": []
          },
          "execution_count": 29
        }
      ]
    },
    {
      "cell_type": "code",
      "metadata": {
        "id": "QITFNuSLa42S",
        "colab": {
          "base_uri": "https://localhost:8080/",
          "height": 267
        },
        "outputId": "3c0f3949-77b5-4994-914c-5e6a677c92cd"
      },
      "source": [
        "std_list = []\n",
        "\n",
        "for tick in stock_info_df['ticker']:\n",
        "  std_list.append(returns[tick].std()*100)\n",
        "\n",
        "stock_info_df['risco'] = std_list \n",
        "\n",
        "stock_info_df.sort_values(by = 'discount').head(10)\n"
      ],
      "execution_count": null,
      "outputs": [
        {
          "output_type": "execute_result",
          "data": {
            "text/html": [
              "<div>\n",
              "<style scoped>\n",
              "    .dataframe tbody tr th:only-of-type {\n",
              "        vertical-align: middle;\n",
              "    }\n",
              "\n",
              "    .dataframe tbody tr th {\n",
              "        vertical-align: top;\n",
              "    }\n",
              "\n",
              "    .dataframe thead th {\n",
              "        text-align: right;\n",
              "    }\n",
              "</style>\n",
              "<table border=\"1\" class=\"dataframe\">\n",
              "  <thead>\n",
              "    <tr style=\"text-align: right;\">\n",
              "      <th></th>\n",
              "      <th>ticker</th>\n",
              "      <th>discount</th>\n",
              "      <th>risco</th>\n",
              "    </tr>\n",
              "  </thead>\n",
              "  <tbody>\n",
              "    <tr>\n",
              "      <th>5</th>\n",
              "      <td>CAML3.SA</td>\n",
              "      <td>-10.191728</td>\n",
              "      <td>2.049960</td>\n",
              "    </tr>\n",
              "    <tr>\n",
              "      <th>6</th>\n",
              "      <td>EGIE3.SA</td>\n",
              "      <td>-4.221667</td>\n",
              "      <td>1.595529</td>\n",
              "    </tr>\n",
              "    <tr>\n",
              "      <th>0</th>\n",
              "      <td>CYRE3.SA</td>\n",
              "      <td>-0.729088</td>\n",
              "      <td>2.877691</td>\n",
              "    </tr>\n",
              "    <tr>\n",
              "      <th>3</th>\n",
              "      <td>ENBR3.SA</td>\n",
              "      <td>0.071688</td>\n",
              "      <td>1.949321</td>\n",
              "    </tr>\n",
              "    <tr>\n",
              "      <th>1</th>\n",
              "      <td>RAPT3.SA</td>\n",
              "      <td>67.315174</td>\n",
              "      <td>3.327687</td>\n",
              "    </tr>\n",
              "    <tr>\n",
              "      <th>2</th>\n",
              "      <td>TAEE11.SA</td>\n",
              "      <td>70.593059</td>\n",
              "      <td>1.562181</td>\n",
              "    </tr>\n",
              "    <tr>\n",
              "      <th>4</th>\n",
              "      <td>VALE3.SA</td>\n",
              "      <td>135.442939</td>\n",
              "      <td>3.083582</td>\n",
              "    </tr>\n",
              "  </tbody>\n",
              "</table>\n",
              "</div>"
            ],
            "text/plain": [
              "      ticker    discount     risco\n",
              "5   CAML3.SA  -10.191728  2.049960\n",
              "6   EGIE3.SA   -4.221667  1.595529\n",
              "0   CYRE3.SA   -0.729088  2.877691\n",
              "3   ENBR3.SA    0.071688  1.949321\n",
              "1   RAPT3.SA   67.315174  3.327687\n",
              "2  TAEE11.SA   70.593059  1.562181\n",
              "4   VALE3.SA  135.442939  3.083582"
            ]
          },
          "metadata": {
            "tags": []
          },
          "execution_count": 30
        }
      ]
    },
    {
      "cell_type": "code",
      "metadata": {
        "id": "n0VGG7pzfcde"
      },
      "source": [
        "def pega_dividendos(stock):\n",
        "  return[x for x  in df[symbols == stock]['DY']]\n",
        "stock_info_df['DY'] = [pega_dividendos(tick)[0] for tick in stock_info_df['ticker']] "
      ],
      "execution_count": null,
      "outputs": []
    },
    {
      "cell_type": "code",
      "metadata": {
        "id": "iOcAy7WUk9Pw"
      },
      "source": [
        "def P_L(stock):\n",
        "  return[x for x  in df[symbols == stock]['PL']]\n",
        "stock_info_df['PL'] = [P_L(tick)[0] for tick in stock_info_df['ticker']]\n"
      ],
      "execution_count": null,
      "outputs": []
    },
    {
      "cell_type": "code",
      "metadata": {
        "id": "24jhUhkdlGZy"
      },
      "source": [
        "def Preco_atual(stock):\n",
        "  return[x for x  in df[symbols == stock]['Cotação']]\n",
        "stock_info_df['Cotação'] = [Preco_atual(tick)[0] for tick in stock_info_df['ticker']]"
      ],
      "execution_count": null,
      "outputs": []
    },
    {
      "cell_type": "code",
      "metadata": {
        "id": "iZcD2sw5lLy7"
      },
      "source": [
        "def LiqCorr(stock):\n",
        "  return[x for x  in df[symbols == stock]['LiqCorr']]\n",
        "stock_info_df['LiqCorr'] = [LiqCorr(tick)[0] for tick in stock_info_df['ticker']]"
      ],
      "execution_count": null,
      "outputs": []
    },
    {
      "cell_type": "code",
      "metadata": {
        "id": "m2k9QmdClRGo"
      },
      "source": [
        "def ROIC(stock):\n",
        "  return[x for x  in df[symbols == stock]['ROIC']]\n",
        "stock_info_df['ROIC'] = [ROIC(tick)[0] for tick in stock_info_df['ticker']]"
      ],
      "execution_count": null,
      "outputs": []
    },
    {
      "cell_type": "code",
      "metadata": {
        "id": "xRwtazF0lXex"
      },
      "source": [
        "def ROE(stock):\n",
        "  return[x for x  in df[symbols == stock]['ROE']]\n",
        "stock_info_df['ROE'] = [ROE(tick)[0] for tick in stock_info_df['ticker']]"
      ],
      "execution_count": null,
      "outputs": []
    },
    {
      "cell_type": "code",
      "metadata": {
        "id": "R8_IVizulv4t"
      },
      "source": [
        "def CrescRec5a(stock):\n",
        "  return[x for x  in df[symbols == stock]['CrescRec5a']]\n",
        "stock_info_df['CrescRec5a'] = [CrescRec5a(tick)[0] for tick in stock_info_df['ticker']]"
      ],
      "execution_count": null,
      "outputs": []
    },
    {
      "cell_type": "code",
      "metadata": {
        "id": "K63NM0IBgzk6"
      },
      "source": [
        "def PatrimLiq(stock):\n",
        "  return[x for x  in df[symbols == stock]['PatrimLíq']]\n",
        "stock_info_df['PatrimLíq'] = [PatrimLiq(tick)[0] for tick in stock_info_df['ticker']]"
      ],
      "execution_count": null,
      "outputs": []
    },
    {
      "cell_type": "code",
      "metadata": {
        "id": "khvdITEw1lPC"
      },
      "source": [
        "def P_VP(stock):\n",
        "  return[x for x  in df[symbols == stock]['PVP']]\n",
        "stock_info_df['PVP'] = [P_VP(tick)[0] for tick in stock_info_df['ticker']]"
      ],
      "execution_count": null,
      "outputs": []
    },
    {
      "cell_type": "code",
      "metadata": {
        "id": "xX_kfnGY4unH"
      },
      "source": [
        "\n",
        "def PSR(stock):\n",
        "  return[x for x  in df[symbols == stock]['PSR']]\n",
        "stock_info_df['PSR'] = [PSR(tick)[0] for tick in stock_info_df['ticker']]"
      ],
      "execution_count": null,
      "outputs": []
    },
    {
      "cell_type": "code",
      "metadata": {
        "id": "3IvnWiKb2r8p"
      },
      "source": [
        "def MrgEbit(stock):\n",
        "  return[x for x  in df[symbols == stock]['MrgEbit']]\n",
        "stock_info_df['MrgEbit'] = [MrgEbit(tick)[0] for tick in stock_info_df['ticker']]"
      ],
      "execution_count": null,
      "outputs": []
    },
    {
      "cell_type": "code",
      "metadata": {
        "id": "9Lk7vG1e3LUq"
      },
      "source": [
        "def DivBrutPatrim(stock):\n",
        "  return[x for x  in df[symbols == stock]['DívBrutPatrim']]\n",
        "stock_info_df['DívBrutPatrim'] = [DivBrutPatrim(tick)[0] for tick in stock_info_df['ticker']]"
      ],
      "execution_count": null,
      "outputs": []
    },
    {
      "cell_type": "code",
      "metadata": {
        "id": "PVmBR-oZ3y2h"
      },
      "source": [
        "def EV_EBITDA(stock):\n",
        "  return[x for x  in df[symbols == stock]['EV/EBITDA']]\n",
        "stock_info_df['EV/EBITDA'] = [EV_EBITDA(tick)[0] for tick in stock_info_df['ticker']]"
      ],
      "execution_count": null,
      "outputs": []
    },
    {
      "cell_type": "code",
      "metadata": {
        "id": "CgF5nizw4D7R"
      },
      "source": [
        "def EV_EBIT(stock):\n",
        "  return[x for x  in df[symbols == stock]['EV/EBIT']]\n",
        "stock_info_df['EV/EBIT'] = [EV_EBIT(tick)[0] for tick in stock_info_df['ticker']]"
      ],
      "execution_count": null,
      "outputs": []
    },
    {
      "cell_type": "code",
      "metadata": {
        "id": "eTDqRhY14LGR"
      },
      "source": [
        "def P_EBIT(stock):\n",
        "  return[x for x  in df[symbols == stock]['P/EBIT']]\n",
        "stock_info_df['P/EBIT'] = [P_EBIT(tick)[0] for tick in stock_info_df['ticker']]"
      ],
      "execution_count": null,
      "outputs": []
    },
    {
      "cell_type": "code",
      "metadata": {
        "id": "V7Sxdy134Q1h"
      },
      "source": [
        "def P_Ativ_Circ_Liq(stock):\n",
        "  return[x for x  in df[symbols == stock]['P/Ativ Circ.Liq']]\n",
        "stock_info_df['P/Ativ Circ.Liq'] = [P_Ativ_Circ_Liq(tick)[0] for tick in stock_info_df['ticker']]"
      ],
      "execution_count": null,
      "outputs": []
    },
    {
      "cell_type": "code",
      "metadata": {
        "id": "vHPZnTPy4ZLB"
      },
      "source": [
        "def P_Cap_Giro(stock):\n",
        "  return[x for x  in df[symbols == stock]['P/Cap.Giro']]\n",
        "stock_info_df['P/Cap.Giro'] = [P_Cap_Giro(tick)[0] for tick in stock_info_df['ticker']]"
      ],
      "execution_count": null,
      "outputs": []
    },
    {
      "cell_type": "code",
      "metadata": {
        "id": "zBx8etzkeYuy"
      },
      "source": [
        "##import plotly.express as px\n",
        "#stock_info_df = stock_info_df.dropna()"
      ],
      "execution_count": null,
      "outputs": []
    },
    {
      "cell_type": "code",
      "metadata": {
        "id": "7YcfhbYHelwg"
      },
      "source": [
        "#fig = px.scatter(stock_info_df, x = 'risk', y ='discount', color = 'sector', hover_name='ticker', log_x = True)\n",
        "\n",
        "#plotly.offline.plot(fig,filename='oportunidades.html')"
      ],
      "execution_count": null,
      "outputs": []
    },
    {
      "cell_type": "code",
      "metadata": {
        "id": "kg2RS5IGjysB",
        "colab": {
          "base_uri": "https://localhost:8080/",
          "height": 304
        },
        "outputId": "622fe45b-5f31-414f-fa69-0bf0fd46fd9a"
      },
      "source": [
        "stock_info_df.sort_values(by = 'PL').head(20)"
      ],
      "execution_count": null,
      "outputs": [
        {
          "output_type": "execute_result",
          "data": {
            "text/html": [
              "<div>\n",
              "<style scoped>\n",
              "    .dataframe tbody tr th:only-of-type {\n",
              "        vertical-align: middle;\n",
              "    }\n",
              "\n",
              "    .dataframe tbody tr th {\n",
              "        vertical-align: top;\n",
              "    }\n",
              "\n",
              "    .dataframe thead th {\n",
              "        text-align: right;\n",
              "    }\n",
              "</style>\n",
              "<table border=\"1\" class=\"dataframe\">\n",
              "  <thead>\n",
              "    <tr style=\"text-align: right;\">\n",
              "      <th></th>\n",
              "      <th>ticker</th>\n",
              "      <th>discount</th>\n",
              "      <th>risco</th>\n",
              "      <th>DY</th>\n",
              "      <th>PL</th>\n",
              "      <th>Cotação</th>\n",
              "      <th>LiqCorr</th>\n",
              "      <th>ROIC</th>\n",
              "      <th>ROE</th>\n",
              "      <th>CrescRec5a</th>\n",
              "      <th>PatrimLíq</th>\n",
              "      <th>PVP</th>\n",
              "      <th>PSR</th>\n",
              "      <th>MrgEbit</th>\n",
              "      <th>DívBrutPatrim</th>\n",
              "      <th>EV/EBITDA</th>\n",
              "      <th>EV/EBIT</th>\n",
              "      <th>P/EBIT</th>\n",
              "      <th>P/Ativ Circ.Liq</th>\n",
              "      <th>P/Cap.Giro</th>\n",
              "    </tr>\n",
              "  </thead>\n",
              "  <tbody>\n",
              "    <tr>\n",
              "      <th>0</th>\n",
              "      <td>CYRE3.SA</td>\n",
              "      <td>-0.729088</td>\n",
              "      <td>2.877691</td>\n",
              "      <td>13.19</td>\n",
              "      <td>4.17</td>\n",
              "      <td>20.08</td>\n",
              "      <td>2.78</td>\n",
              "      <td>6.43</td>\n",
              "      <td>33.79</td>\n",
              "      <td>10.74</td>\n",
              "      <td>5696170000</td>\n",
              "      <td>1.41</td>\n",
              "      <td>1.976</td>\n",
              "      <td>15.15</td>\n",
              "      <td>0.47</td>\n",
              "      <td>13.46</td>\n",
              "      <td>14.32</td>\n",
              "      <td>13.04</td>\n",
              "      <td>16.25</td>\n",
              "      <td>2.04</td>\n",
              "    </tr>\n",
              "    <tr>\n",
              "      <th>1</th>\n",
              "      <td>RAPT3.SA</td>\n",
              "      <td>67.315174</td>\n",
              "      <td>3.327687</td>\n",
              "      <td>5.85</td>\n",
              "      <td>5.50</td>\n",
              "      <td>12.65</td>\n",
              "      <td>1.93</td>\n",
              "      <td>12.41</td>\n",
              "      <td>36.45</td>\n",
              "      <td>25.34</td>\n",
              "      <td>2183370000</td>\n",
              "      <td>2.00</td>\n",
              "      <td>0.716</td>\n",
              "      <td>12.64</td>\n",
              "      <td>1.81</td>\n",
              "      <td>6.29</td>\n",
              "      <td>7.85</td>\n",
              "      <td>5.66</td>\n",
              "      <td>-4.68</td>\n",
              "      <td>1.59</td>\n",
              "    </tr>\n",
              "    <tr>\n",
              "      <th>2</th>\n",
              "      <td>TAEE11.SA</td>\n",
              "      <td>70.593059</td>\n",
              "      <td>1.562181</td>\n",
              "      <td>13.49</td>\n",
              "      <td>5.53</td>\n",
              "      <td>39.40</td>\n",
              "      <td>2.93</td>\n",
              "      <td>18.85</td>\n",
              "      <td>37.20</td>\n",
              "      <td>32.43</td>\n",
              "      <td>6598210000</td>\n",
              "      <td>2.06</td>\n",
              "      <td>3.591</td>\n",
              "      <td>69.43</td>\n",
              "      <td>0.98</td>\n",
              "      <td>7.20</td>\n",
              "      <td>7.24</td>\n",
              "      <td>5.17</td>\n",
              "      <td>-2.34</td>\n",
              "      <td>7.88</td>\n",
              "    </tr>\n",
              "    <tr>\n",
              "      <th>3</th>\n",
              "      <td>ENBR3.SA</td>\n",
              "      <td>0.071688</td>\n",
              "      <td>1.949321</td>\n",
              "      <td>5.81</td>\n",
              "      <td>5.67</td>\n",
              "      <td>17.20</td>\n",
              "      <td>1.04</td>\n",
              "      <td>11.90</td>\n",
              "      <td>17.54</td>\n",
              "      <td>10.99</td>\n",
              "      <td>10487500000</td>\n",
              "      <td>1.00</td>\n",
              "      <td>0.638</td>\n",
              "      <td>20.76</td>\n",
              "      <td>0.92</td>\n",
              "      <td>4.51</td>\n",
              "      <td>5.43</td>\n",
              "      <td>3.07</td>\n",
              "      <td>-0.84</td>\n",
              "      <td>32.14</td>\n",
              "    </tr>\n",
              "    <tr>\n",
              "      <th>4</th>\n",
              "      <td>VALE3.SA</td>\n",
              "      <td>135.442939</td>\n",
              "      <td>3.083582</td>\n",
              "      <td>8.06</td>\n",
              "      <td>6.36</td>\n",
              "      <td>109.70</td>\n",
              "      <td>1.77</td>\n",
              "      <td>44.97</td>\n",
              "      <td>43.71</td>\n",
              "      <td>27.55</td>\n",
              "      <td>208437000000</td>\n",
              "      <td>2.78</td>\n",
              "      <td>1.972</td>\n",
              "      <td>60.67</td>\n",
              "      <td>0.33</td>\n",
              "      <td>2.97</td>\n",
              "      <td>3.26</td>\n",
              "      <td>3.25</td>\n",
              "      <td>-4.00</td>\n",
              "      <td>10.47</td>\n",
              "    </tr>\n",
              "    <tr>\n",
              "      <th>5</th>\n",
              "      <td>CAML3.SA</td>\n",
              "      <td>-10.191728</td>\n",
              "      <td>2.049960</td>\n",
              "      <td>6.88</td>\n",
              "      <td>7.14</td>\n",
              "      <td>8.90</td>\n",
              "      <td>2.19</td>\n",
              "      <td>13.47</td>\n",
              "      <td>17.09</td>\n",
              "      <td>21.29</td>\n",
              "      <td>2699680000</td>\n",
              "      <td>1.22</td>\n",
              "      <td>0.412</td>\n",
              "      <td>7.47</td>\n",
              "      <td>1.03</td>\n",
              "      <td>6.02</td>\n",
              "      <td>7.69</td>\n",
              "      <td>5.51</td>\n",
              "      <td>9.14</td>\n",
              "      <td>1.19</td>\n",
              "    </tr>\n",
              "    <tr>\n",
              "      <th>6</th>\n",
              "      <td>EGIE3.SA</td>\n",
              "      <td>-4.221667</td>\n",
              "      <td>1.595529</td>\n",
              "      <td>6.56</td>\n",
              "      <td>12.98</td>\n",
              "      <td>37.67</td>\n",
              "      <td>1.53</td>\n",
              "      <td>17.62</td>\n",
              "      <td>28.99</td>\n",
              "      <td>18.97</td>\n",
              "      <td>8166660000</td>\n",
              "      <td>3.76</td>\n",
              "      <td>2.300</td>\n",
              "      <td>42.17</td>\n",
              "      <td>2.25</td>\n",
              "      <td>6.72</td>\n",
              "      <td>7.81</td>\n",
              "      <td>5.45</td>\n",
              "      <td>-1.47</td>\n",
              "      <td>10.21</td>\n",
              "    </tr>\n",
              "  </tbody>\n",
              "</table>\n",
              "</div>"
            ],
            "text/plain": [
              "      ticker    discount     risco  ...  P/EBIT  P/Ativ Circ.Liq  P/Cap.Giro\n",
              "0   CYRE3.SA   -0.729088  2.877691  ...   13.04            16.25        2.04\n",
              "1   RAPT3.SA   67.315174  3.327687  ...    5.66            -4.68        1.59\n",
              "2  TAEE11.SA   70.593059  1.562181  ...    5.17            -2.34        7.88\n",
              "3   ENBR3.SA    0.071688  1.949321  ...    3.07            -0.84       32.14\n",
              "4   VALE3.SA  135.442939  3.083582  ...    3.25            -4.00       10.47\n",
              "5   CAML3.SA  -10.191728  2.049960  ...    5.51             9.14        1.19\n",
              "6   EGIE3.SA   -4.221667  1.595529  ...    5.45            -1.47       10.21\n",
              "\n",
              "[7 rows x 20 columns]"
            ]
          },
          "metadata": {
            "tags": []
          },
          "execution_count": 50
        }
      ]
    },
    {
      "cell_type": "code",
      "metadata": {
        "id": "kGIi4sjPk08d",
        "colab": {
          "base_uri": "https://localhost:8080/"
        },
        "outputId": "c7d571ce-73d0-4509-9c03-2ec84d3b1113"
      },
      "source": [
        "stock_info_df.dtypes"
      ],
      "execution_count": null,
      "outputs": [
        {
          "output_type": "execute_result",
          "data": {
            "text/plain": [
              "ticker              object\n",
              "discount           float64\n",
              "risco              float64\n",
              "DY                 float64\n",
              "PL                 float64\n",
              "Cotação            float64\n",
              "LiqCorr            float64\n",
              "ROIC               float64\n",
              "ROE                float64\n",
              "CrescRec5a         float64\n",
              "PatrimLíq            int64\n",
              "PVP                float64\n",
              "PSR                float64\n",
              "MrgEbit            float64\n",
              "DívBrutPatrim      float64\n",
              "EV/EBITDA          float64\n",
              "EV/EBIT            float64\n",
              "P/EBIT             float64\n",
              "P/Ativ Circ.Liq    float64\n",
              "P/Cap.Giro         float64\n",
              "dtype: object"
            ]
          },
          "metadata": {
            "tags": []
          },
          "execution_count": 51
        }
      ]
    },
    {
      "cell_type": "code",
      "metadata": {
        "id": "_I5PWNENmKRt",
        "colab": {
          "base_uri": "https://localhost:8080/",
          "height": 304
        },
        "outputId": "bde539d9-9d40-48ed-9745-10ab3e5de5c8"
      },
      "source": [
        "stock_info_df\n",
        "#import seaborn as sns"
      ],
      "execution_count": null,
      "outputs": [
        {
          "output_type": "execute_result",
          "data": {
            "text/html": [
              "<div>\n",
              "<style scoped>\n",
              "    .dataframe tbody tr th:only-of-type {\n",
              "        vertical-align: middle;\n",
              "    }\n",
              "\n",
              "    .dataframe tbody tr th {\n",
              "        vertical-align: top;\n",
              "    }\n",
              "\n",
              "    .dataframe thead th {\n",
              "        text-align: right;\n",
              "    }\n",
              "</style>\n",
              "<table border=\"1\" class=\"dataframe\">\n",
              "  <thead>\n",
              "    <tr style=\"text-align: right;\">\n",
              "      <th></th>\n",
              "      <th>ticker</th>\n",
              "      <th>discount</th>\n",
              "      <th>risco</th>\n",
              "      <th>DY</th>\n",
              "      <th>PL</th>\n",
              "      <th>Cotação</th>\n",
              "      <th>LiqCorr</th>\n",
              "      <th>ROIC</th>\n",
              "      <th>ROE</th>\n",
              "      <th>CrescRec5a</th>\n",
              "      <th>PatrimLíq</th>\n",
              "      <th>PVP</th>\n",
              "      <th>PSR</th>\n",
              "      <th>MrgEbit</th>\n",
              "      <th>DívBrutPatrim</th>\n",
              "      <th>EV/EBITDA</th>\n",
              "      <th>EV/EBIT</th>\n",
              "      <th>P/EBIT</th>\n",
              "      <th>P/Ativ Circ.Liq</th>\n",
              "      <th>P/Cap.Giro</th>\n",
              "    </tr>\n",
              "  </thead>\n",
              "  <tbody>\n",
              "    <tr>\n",
              "      <th>0</th>\n",
              "      <td>CYRE3.SA</td>\n",
              "      <td>-0.729088</td>\n",
              "      <td>2.877691</td>\n",
              "      <td>13.19</td>\n",
              "      <td>4.17</td>\n",
              "      <td>20.08</td>\n",
              "      <td>2.78</td>\n",
              "      <td>6.43</td>\n",
              "      <td>33.79</td>\n",
              "      <td>10.74</td>\n",
              "      <td>5696170000</td>\n",
              "      <td>1.41</td>\n",
              "      <td>1.976</td>\n",
              "      <td>15.15</td>\n",
              "      <td>0.47</td>\n",
              "      <td>13.46</td>\n",
              "      <td>14.32</td>\n",
              "      <td>13.04</td>\n",
              "      <td>16.25</td>\n",
              "      <td>2.04</td>\n",
              "    </tr>\n",
              "    <tr>\n",
              "      <th>1</th>\n",
              "      <td>RAPT3.SA</td>\n",
              "      <td>67.315174</td>\n",
              "      <td>3.327687</td>\n",
              "      <td>5.85</td>\n",
              "      <td>5.50</td>\n",
              "      <td>12.65</td>\n",
              "      <td>1.93</td>\n",
              "      <td>12.41</td>\n",
              "      <td>36.45</td>\n",
              "      <td>25.34</td>\n",
              "      <td>2183370000</td>\n",
              "      <td>2.00</td>\n",
              "      <td>0.716</td>\n",
              "      <td>12.64</td>\n",
              "      <td>1.81</td>\n",
              "      <td>6.29</td>\n",
              "      <td>7.85</td>\n",
              "      <td>5.66</td>\n",
              "      <td>-4.68</td>\n",
              "      <td>1.59</td>\n",
              "    </tr>\n",
              "    <tr>\n",
              "      <th>2</th>\n",
              "      <td>TAEE11.SA</td>\n",
              "      <td>70.593059</td>\n",
              "      <td>1.562181</td>\n",
              "      <td>13.49</td>\n",
              "      <td>5.53</td>\n",
              "      <td>39.40</td>\n",
              "      <td>2.93</td>\n",
              "      <td>18.85</td>\n",
              "      <td>37.20</td>\n",
              "      <td>32.43</td>\n",
              "      <td>6598210000</td>\n",
              "      <td>2.06</td>\n",
              "      <td>3.591</td>\n",
              "      <td>69.43</td>\n",
              "      <td>0.98</td>\n",
              "      <td>7.20</td>\n",
              "      <td>7.24</td>\n",
              "      <td>5.17</td>\n",
              "      <td>-2.34</td>\n",
              "      <td>7.88</td>\n",
              "    </tr>\n",
              "    <tr>\n",
              "      <th>3</th>\n",
              "      <td>ENBR3.SA</td>\n",
              "      <td>0.071688</td>\n",
              "      <td>1.949321</td>\n",
              "      <td>5.81</td>\n",
              "      <td>5.67</td>\n",
              "      <td>17.20</td>\n",
              "      <td>1.04</td>\n",
              "      <td>11.90</td>\n",
              "      <td>17.54</td>\n",
              "      <td>10.99</td>\n",
              "      <td>10487500000</td>\n",
              "      <td>1.00</td>\n",
              "      <td>0.638</td>\n",
              "      <td>20.76</td>\n",
              "      <td>0.92</td>\n",
              "      <td>4.51</td>\n",
              "      <td>5.43</td>\n",
              "      <td>3.07</td>\n",
              "      <td>-0.84</td>\n",
              "      <td>32.14</td>\n",
              "    </tr>\n",
              "    <tr>\n",
              "      <th>4</th>\n",
              "      <td>VALE3.SA</td>\n",
              "      <td>135.442939</td>\n",
              "      <td>3.083582</td>\n",
              "      <td>8.06</td>\n",
              "      <td>6.36</td>\n",
              "      <td>109.70</td>\n",
              "      <td>1.77</td>\n",
              "      <td>44.97</td>\n",
              "      <td>43.71</td>\n",
              "      <td>27.55</td>\n",
              "      <td>208437000000</td>\n",
              "      <td>2.78</td>\n",
              "      <td>1.972</td>\n",
              "      <td>60.67</td>\n",
              "      <td>0.33</td>\n",
              "      <td>2.97</td>\n",
              "      <td>3.26</td>\n",
              "      <td>3.25</td>\n",
              "      <td>-4.00</td>\n",
              "      <td>10.47</td>\n",
              "    </tr>\n",
              "    <tr>\n",
              "      <th>5</th>\n",
              "      <td>CAML3.SA</td>\n",
              "      <td>-10.191728</td>\n",
              "      <td>2.049960</td>\n",
              "      <td>6.88</td>\n",
              "      <td>7.14</td>\n",
              "      <td>8.90</td>\n",
              "      <td>2.19</td>\n",
              "      <td>13.47</td>\n",
              "      <td>17.09</td>\n",
              "      <td>21.29</td>\n",
              "      <td>2699680000</td>\n",
              "      <td>1.22</td>\n",
              "      <td>0.412</td>\n",
              "      <td>7.47</td>\n",
              "      <td>1.03</td>\n",
              "      <td>6.02</td>\n",
              "      <td>7.69</td>\n",
              "      <td>5.51</td>\n",
              "      <td>9.14</td>\n",
              "      <td>1.19</td>\n",
              "    </tr>\n",
              "    <tr>\n",
              "      <th>6</th>\n",
              "      <td>EGIE3.SA</td>\n",
              "      <td>-4.221667</td>\n",
              "      <td>1.595529</td>\n",
              "      <td>6.56</td>\n",
              "      <td>12.98</td>\n",
              "      <td>37.67</td>\n",
              "      <td>1.53</td>\n",
              "      <td>17.62</td>\n",
              "      <td>28.99</td>\n",
              "      <td>18.97</td>\n",
              "      <td>8166660000</td>\n",
              "      <td>3.76</td>\n",
              "      <td>2.300</td>\n",
              "      <td>42.17</td>\n",
              "      <td>2.25</td>\n",
              "      <td>6.72</td>\n",
              "      <td>7.81</td>\n",
              "      <td>5.45</td>\n",
              "      <td>-1.47</td>\n",
              "      <td>10.21</td>\n",
              "    </tr>\n",
              "  </tbody>\n",
              "</table>\n",
              "</div>"
            ],
            "text/plain": [
              "      ticker    discount     risco  ...  P/EBIT  P/Ativ Circ.Liq  P/Cap.Giro\n",
              "0   CYRE3.SA   -0.729088  2.877691  ...   13.04            16.25        2.04\n",
              "1   RAPT3.SA   67.315174  3.327687  ...    5.66            -4.68        1.59\n",
              "2  TAEE11.SA   70.593059  1.562181  ...    5.17            -2.34        7.88\n",
              "3   ENBR3.SA    0.071688  1.949321  ...    3.07            -0.84       32.14\n",
              "4   VALE3.SA  135.442939  3.083582  ...    3.25            -4.00       10.47\n",
              "5   CAML3.SA  -10.191728  2.049960  ...    5.51             9.14        1.19\n",
              "6   EGIE3.SA   -4.221667  1.595529  ...    5.45            -1.47       10.21\n",
              "\n",
              "[7 rows x 20 columns]"
            ]
          },
          "metadata": {
            "tags": []
          },
          "execution_count": 52
        }
      ]
    },
    {
      "cell_type": "code",
      "metadata": {
        "id": "Ueu-295IFI_-"
      },
      "source": [
        "#plt.figure(figsize=(16,16))\n",
        "#sns.heatmap(stock_info_df.corr(),annot=True);"
      ],
      "execution_count": null,
      "outputs": []
    },
    {
      "cell_type": "code",
      "metadata": {
        "id": "QmdWnt2Hr0_h"
      },
      "source": [
        "stock_info_df.to_excel('resultado_ações.xlsx')"
      ],
      "execution_count": null,
      "outputs": []
    }
  ]
}